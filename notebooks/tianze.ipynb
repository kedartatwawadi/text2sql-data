{
 "cells": [
  {
   "cell_type": "code",
   "execution_count": 22,
   "metadata": {},
   "outputs": [],
   "source": [
    "import records\n",
    "import json\n",
    "import tablib\n",
    "\n",
    "tablib.formats.json.json = json"
   ]
  },
  {
   "cell_type": "code",
   "execution_count": 23,
   "metadata": {},
   "outputs": [],
   "source": [
    "fdb = \"dev.db\"\n",
    "db = records.Database('sqlite:///{}'.format(fdb))"
   ]
  },
  {
   "cell_type": "code",
   "execution_count": 24,
   "metadata": {},
   "outputs": [
    {
     "name": "stdout",
     "output_type": "stream",
     "text": [
      "table_1_10015132_11\n"
     ]
    }
   ],
   "source": [
    "tables = db.get_table_names()\n",
    "print(tables[0])"
   ]
  },
  {
   "cell_type": "code",
   "execution_count": 31,
   "metadata": {},
   "outputs": [],
   "source": [
    "rows = db.query('SELECT * from table_2_1010430_2')"
   ]
  },
  {
   "cell_type": "code",
   "execution_count": 32,
   "metadata": {},
   "outputs": [
    {
     "name": "stdout",
     "output_type": "stream",
     "text": [
      "col0|col1             |col2|col3|col4|col5\n",
      "----|-----------------|----|----|----|----\n",
      "1.0 |portugal (por)   |2.0 |3.0 |1.0 |6.0 \n",
      "2.0 |hong kong (hkg)  |2.0 |0.0 |0.0 |2.0 \n",
      "3.0 |spain (esp)      |1.0 |2.0 |2.0 |5.0 \n",
      "4.0 |canada (can)     |1.0 |0.0 |1.0 |2.0 \n",
      "4.0 |south korea (kor)|1.0 |0.0 |1.0 |2.0 \n",
      "6.0 |new zealand (nzl)|0.0 |1.0 |0.0 |1.0 \n",
      "6.0 |norway (nor)     |0.0 |1.0 |0.0 |1.0 \n",
      "8.0 |hungary (hun)    |0.0 |0.0 |1.0 |1.0 \n",
      "8.0 |thailand (tha)   |0.0 |0.0 |1.0 |1.0 \n"
     ]
    }
   ],
   "source": [
    "print(rows.dataset)"
   ]
  },
  {
   "cell_type": "code",
   "execution_count": 55,
   "metadata": {},
   "outputs": [
    {
     "name": "stdout",
     "output_type": "stream",
     "text": [
      "\n"
     ]
    }
   ],
   "source": [
    "rows = db.query('SELECT * from table_2_10256651_3 where col0 > 9')\n",
    "print(rows.dataset)"
   ]
  }
 ],
 "metadata": {
  "kernelspec": {
   "display_name": "Python 3",
   "language": "python",
   "name": "python3"
  },
  "language_info": {
   "codemirror_mode": {
    "name": "ipython",
    "version": 3
   },
   "file_extension": ".py",
   "mimetype": "text/x-python",
   "name": "python",
   "nbconvert_exporter": "python",
   "pygments_lexer": "ipython3",
   "version": "3.5.4"
  }
 },
 "nbformat": 4,
 "nbformat_minor": 2
}
